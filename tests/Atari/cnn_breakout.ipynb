{
 "cells": [
  {
   "cell_type": "code",
   "execution_count": 3,
   "metadata": {
    "ExecuteTime": {
     "end_time": "2024-03-02T12:14:31.989626Z",
     "start_time": "2024-03-02T12:14:31.969672Z"
    }
   },
   "outputs": [
    {
     "ename": "ModuleNotFoundError",
     "evalue": "No module named 'cv2'",
     "output_type": "error",
     "traceback": [
      "\u001B[1;31m---------------------------------------------------------------------------\u001B[0m",
      "\u001B[1;31mModuleNotFoundError\u001B[0m                       Traceback (most recent call last)",
      "Cell \u001B[1;32mIn[3], line 2\u001B[0m\n\u001B[0;32m      1\u001B[0m \u001B[38;5;28;01mimport\u001B[39;00m \u001B[38;5;21;01mcollections\u001B[39;00m\n\u001B[1;32m----> 2\u001B[0m \u001B[38;5;28;01mimport\u001B[39;00m \u001B[38;5;21;01mcv2\u001B[39;00m\n\u001B[0;32m      3\u001B[0m \u001B[38;5;28;01mimport\u001B[39;00m \u001B[38;5;21;01mgym\u001B[39;00m\n\u001B[0;32m      4\u001B[0m \u001B[38;5;28;01mimport\u001B[39;00m \u001B[38;5;21;01mnumpy\u001B[39;00m \u001B[38;5;28;01mas\u001B[39;00m \u001B[38;5;21;01mnp\u001B[39;00m\n",
      "\u001B[1;31mModuleNotFoundError\u001B[0m: No module named 'cv2'"
     ]
    }
   ],
   "source": [
    "import collections\n",
    "import cv2\n",
    "import gym\n",
    "import numpy as np\n",
    "from PIL import Image\n",
    "import torch\n",
    "import os\n",
    "from breakout import *\n",
    "\n",
    "os.environ['KMP_DUPLICATE_LIB_OK'] = 'TRUE'\n"
   ]
  },
  {
   "cell_type": "code",
   "execution_count": 14,
   "metadata": {},
   "outputs": [],
   "source": [
    "class DQNBreakout(gym.Wrapper):\n",
    "    def __init__(self, rendor_mode ='rgb_array', repeat=4, device='cpu'):\n",
    "        env.gym.make(\"BreakoutNoFrameskip-v4\", render_mode=rendor_mode)\n",
    "        \n",
    "        super(DQNBreakout, self).__init__(env)\n",
    "        \n",
    "        self.repeat = repeat\n",
    "        self.lives = env.ale.lives()\n",
    "        self.frame_buffer = []\n",
    "        self.device = device\n",
    "\n",
    "    def step(self, action):\n",
    "        total_reward = 0\n",
    "        done = False\n",
    "        \n",
    "        for i in range(self.repeat):\n",
    "            observation, reward, done, truncated, info = self.env.step(action)\n",
    "            total_reward += reward \n",
    "            print(info)\n",
    "            \n",
    "            self.frame_buffer.append(observation)\n",
    "            \n",
    "            if done:\n",
    "                break\n",
    "            \n",
    "        max_frame = np.max(self.frame_buffer[-2:], axis = 0)\n",
    "        max_frame = max_frame.to(self.device)\n",
    "        self.frame_buffer = []\n",
    "        \n",
    "        return max_frame, total_reward, done, info"
   ]
  },
  {
   "cell_type": "code",
   "execution_count": 15,
   "metadata": {},
   "outputs": [
    {
     "ename": "NameError",
     "evalue": "name 'env' is not defined",
     "output_type": "error",
     "traceback": [
      "\u001B[1;31m---------------------------------------------------------------------------\u001B[0m",
      "\u001B[1;31mNameError\u001B[0m                                 Traceback (most recent call last)",
      "Cell \u001B[1;32mIn[15], line 3\u001B[0m\n\u001B[0;32m      1\u001B[0m device \u001B[38;5;241m=\u001B[39m torch\u001B[38;5;241m.\u001B[39mdevice(\u001B[38;5;124m'\u001B[39m\u001B[38;5;124mcuda:0\u001B[39m\u001B[38;5;124m'\u001B[39m \u001B[38;5;28;01mif\u001B[39;00m torch\u001B[38;5;241m.\u001B[39mcuda\u001B[38;5;241m.\u001B[39mis_available() \u001B[38;5;28;01melse\u001B[39;00m \u001B[38;5;124m'\u001B[39m\u001B[38;5;124mcpu\u001B[39m\u001B[38;5;124m'\u001B[39m)\n\u001B[1;32m----> 3\u001B[0m environment \u001B[38;5;241m=\u001B[39m \u001B[43mDQNBreakout\u001B[49m\u001B[43m(\u001B[49m\u001B[43mdevice\u001B[49m\u001B[38;5;241;43m=\u001B[39;49m\u001B[43mdevice\u001B[49m\u001B[43m)\u001B[49m\n\u001B[0;32m      4\u001B[0m state \u001B[38;5;241m=\u001B[39m environment\u001B[38;5;241m.\u001B[39mreset()\n\u001B[0;32m      6\u001B[0m \u001B[38;5;28;01mfor\u001B[39;00m _ \u001B[38;5;129;01min\u001B[39;00m \u001B[38;5;28mrange\u001B[39m(\u001B[38;5;241m100\u001B[39m):\n",
      "Cell \u001B[1;32mIn[14], line 3\u001B[0m, in \u001B[0;36mDQNBreakout.__init__\u001B[1;34m(self, rendor_mode, repeat, device)\u001B[0m\n\u001B[0;32m      2\u001B[0m \u001B[38;5;28;01mdef\u001B[39;00m \u001B[38;5;21m__init__\u001B[39m(\u001B[38;5;28mself\u001B[39m, rendor_mode \u001B[38;5;241m=\u001B[39m\u001B[38;5;124m'\u001B[39m\u001B[38;5;124mrgb_array\u001B[39m\u001B[38;5;124m'\u001B[39m, repeat\u001B[38;5;241m=\u001B[39m\u001B[38;5;241m4\u001B[39m, device\u001B[38;5;241m=\u001B[39m\u001B[38;5;124m'\u001B[39m\u001B[38;5;124mcpu\u001B[39m\u001B[38;5;124m'\u001B[39m):\n\u001B[1;32m----> 3\u001B[0m     \u001B[43menv\u001B[49m\u001B[38;5;241m.\u001B[39mgym\u001B[38;5;241m.\u001B[39mmake(\u001B[38;5;124m\"\u001B[39m\u001B[38;5;124mBreakoutNoFrameskip-v4\u001B[39m\u001B[38;5;124m\"\u001B[39m, render_mode\u001B[38;5;241m=\u001B[39mrendor_mode)\n\u001B[0;32m      5\u001B[0m     \u001B[38;5;28msuper\u001B[39m(DQNBreakout, \u001B[38;5;28mself\u001B[39m)\u001B[38;5;241m.\u001B[39m\u001B[38;5;21m__init__\u001B[39m(env)\n\u001B[0;32m      7\u001B[0m     \u001B[38;5;28mself\u001B[39m\u001B[38;5;241m.\u001B[39mrepeat \u001B[38;5;241m=\u001B[39m repeat\n",
      "\u001B[1;31mNameError\u001B[0m: name 'env' is not defined"
     ]
    }
   ],
   "source": [
    "\n",
    "device = torch.device('cuda:0' if torch.cuda.is_available() else 'cpu')\n",
    "\n",
    "environment = DQNBreakout(device=device)\n",
    "state = environment.reset()\n",
    "\n",
    "for _ in range(100):\n",
    "    action = environment.action_space.sample()\n",
    "    state, reward, done, info = environment.step(action)\n"
   ]
  },
  {
   "cell_type": "code",
   "execution_count": null,
   "metadata": {},
   "outputs": [],
   "source": []
  }
 ],
 "metadata": {
  "kernelspec": {
   "display_name": "myenv1",
   "language": "python",
   "name": "python3"
  },
  "language_info": {
   "codemirror_mode": {
    "name": "ipython",
    "version": 3
   },
   "file_extension": ".py",
   "mimetype": "text/x-python",
   "name": "python",
   "nbconvert_exporter": "python",
   "pygments_lexer": "ipython3",
   "version": "3.11.7"
  }
 },
 "nbformat": 4,
 "nbformat_minor": 2
}
