{
 "cells": [
  {
   "cell_type": "markdown",
   "metadata": {},
   "source": [
    "Setup and Imports"
   ]
  },
  {
   "cell_type": "code",
   "execution_count": 14,
   "metadata": {},
   "outputs": [
    {
     "data": {
      "text/plain": [
       "(5, 0)"
      ]
     },
     "execution_count": 14,
     "metadata": {},
     "output_type": "execute_result"
    }
   ],
   "source": [
    "# Import necessary libraries\n",
    "import pygame\n",
    "import sys\n",
    "\n",
    "# Initialize Pygame\n",
    "pygame.init()\n"
   ]
  },
  {
   "cell_type": "markdown",
   "metadata": {},
   "source": [
    "Game Initialization"
   ]
  },
  {
   "cell_type": "code",
   "execution_count": 16,
   "metadata": {},
   "outputs": [],
   "source": [
    "# Screen dimensions\n",
    "SCREEN_WIDTH, SCREEN_HEIGHT = 600, 400\n",
    "screen = pygame.display.set_mode((SCREEN_WIDTH, SCREEN_HEIGHT))\n",
    "clock = pygame.time.Clock()\n",
    "\n",
    "# Colors\n",
    "BLACK = (0, 0, 0)\n",
    "WHITE = (255, 255, 255)\n",
    "RED = (255, 0, 0)\n",
    "\n",
    "# Ball settings\n",
    "ball_speed_x, ball_speed_y = 5, -5\n",
    "ball = pygame.Rect(SCREEN_WIDTH // 2 - 15, SCREEN_HEIGHT // 2 - 15, 30, 30)\n",
    "\n",
    "# Paddle settings\n",
    "paddle = pygame.Rect(SCREEN_WIDTH // 2 - 60, SCREEN_HEIGHT - 30, 120, 10)\n",
    "paddle_speed = 0\n",
    "PADDLE_SPEED = 6\n",
    "\n",
    "# Brick settings\n",
    "brick_width = SCREEN_WIDTH // 10 - 5\n",
    "brick_height = 20\n",
    "bricks = [pygame.Rect(i * (brick_width + 5), 0, brick_width, brick_height) for i in range(10)]\n"
   ]
  },
  {
   "cell_type": "markdown",
   "metadata": {},
   "source": [
    "Game Functions"
   ]
  },
  {
   "cell_type": "code",
   "execution_count": 17,
   "metadata": {},
   "outputs": [],
   "source": [
    "def move_ball():\n",
    "    global ball_speed_x, ball_speed_y\n",
    "    \n",
    "    ball.x += ball_speed_x\n",
    "    ball.y += ball_speed_y\n",
    "    \n",
    "    # Ball collision with walls\n",
    "    if ball.left <= 0 or ball.right >= SCREEN_WIDTH:\n",
    "        ball_speed_x *= -1\n",
    "    if ball.top <= 0:\n",
    "        ball_speed_y *= -1\n",
    "        \n",
    "    # Ball collision with paddle\n",
    "    if ball.colliderect(paddle):\n",
    "        ball_speed_y *= -1\n",
    "    \n",
    "    # Ball goes out of screen\n",
    "    if ball.bottom >= SCREEN_HEIGHT:\n",
    "        pygame.quit()\n",
    "        sys.exit()\n",
    "\n",
    "def move_paddle():\n",
    "    paddle.x += paddle_speed\n",
    "    paddle.clamp_ip(screen.get_rect())  # Keep paddle within screen bounds\n"
   ]
  },
  {
   "cell_type": "markdown",
   "metadata": {},
   "source": [
    "Main Game Loop"
   ]
  },
  {
   "cell_type": "code",
   "execution_count": 18,
   "metadata": {},
   "outputs": [],
   "source": [
    "def game_loop():\n",
    "    global paddle_speed\n",
    "    running = True  # Add a running flag\n",
    "    \n",
    "    while running:\n",
    "        for event in pygame.event.get():\n",
    "            if event.type == pygame.QUIT:\n",
    "                running = False  # Set running to False to exit the loop\n",
    "            if event.type == pygame.KEYDOWN:\n",
    "                if event.key == pygame.K_LEFT:\n",
    "                    paddle_speed = -PADDLE_SPEED\n",
    "                if event.key == pygame.K_RIGHT:\n",
    "                    paddle_speed = PADDLE_SPEED\n",
    "                if event.key == pygame.K_ESCAPE:  # Check if ESC is pressed\n",
    "                    running = False  # Set running to False to exit the loop\n",
    "            if event.type == pygame.KEYUP:\n",
    "                if event.key in (pygame.K_LEFT, pygame.K_RIGHT):\n",
    "                    paddle_speed = 0\n",
    "\n",
    "        move_ball()\n",
    "        move_paddle()\n",
    "        \n",
    "        # Drawing\n",
    "        screen.fill(BLACK)\n",
    "        pygame.draw.ellipse(screen, WHITE, ball)\n",
    "        pygame.draw.rect(screen, WHITE, paddle)\n",
    "        for brick in bricks:\n",
    "            pygame.draw.rect(screen, RED, brick)\n",
    "        \n",
    "        pygame.display.flip()\n",
    "        clock.tick(60)\n",
    "    \n",
    "    pygame.quit()  # Exit Pygame when the loop is exited\n"
   ]
  },
  {
   "cell_type": "markdown",
   "metadata": {},
   "source": [
    "Run the Game"
   ]
  },
  {
   "cell_type": "code",
   "execution_count": 19,
   "metadata": {},
   "outputs": [
    {
     "ename": "SystemExit",
     "evalue": "",
     "output_type": "error",
     "traceback": [
      "An exception has occurred, use %tb to see the full traceback.\n",
      "\u001b[1;31mSystemExit\u001b[0m\n"
     ]
    }
   ],
   "source": [
    "game_loop()\n"
   ]
  },
  {
   "cell_type": "code",
   "execution_count": 7,
   "metadata": {},
   "outputs": [],
   "source": [
    "pygame.quit()  # Exit Pygame when the loop is exited\n"
   ]
  },
  {
   "cell_type": "code",
   "execution_count": null,
   "metadata": {},
   "outputs": [],
   "source": []
  }
 ],
 "metadata": {
  "kernelspec": {
   "display_name": "myenv1",
   "language": "python",
   "name": "python3"
  },
  "language_info": {
   "codemirror_mode": {
    "name": "ipython",
    "version": 3
   },
   "file_extension": ".py",
   "mimetype": "text/x-python",
   "name": "python",
   "nbconvert_exporter": "python",
   "pygments_lexer": "ipython3",
   "version": "3.11.7"
  }
 },
 "nbformat": 4,
 "nbformat_minor": 2
}
