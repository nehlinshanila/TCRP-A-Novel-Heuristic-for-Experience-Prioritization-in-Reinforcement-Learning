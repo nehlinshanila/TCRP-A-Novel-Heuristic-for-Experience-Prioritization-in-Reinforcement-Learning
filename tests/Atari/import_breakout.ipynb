{
 "cells": [
  {
   "cell_type": "code",
   "execution_count": 4,
   "metadata": {},
   "outputs": [],
   "source": [
    "import gymnasium as gym\n",
    "\n",
    "# Load the Atari Breakout environment\n",
    "env = gym.make(\"ALE/Breakout-v5\", render_mode=\"human\")\n",
    "\n",
    "# Initialize the game and receive the initial observation and info\n",
    "observation, info = env.reset(seed=42)\n",
    "\n",
    "done = False\n",
    "# while not done:\n",
    "    # Take a random action\n",
    "    # action = env.action_space.sample()\n",
    "    \n",
    "    # Apply the action and receive the updated observation, reward, termination status, truncation status, and info\n",
    "    # observation, reward, terminated, truncated, info = env.step(action)\n",
    "    \n",
    "    # Check if the episode is terminated or truncated to reset the environment\n",
    "    # if terminated or truncated:\n",
    "    #     observation, info = env.reset()\n",
    "    \n",
    "# Close the environment to clean up resources\n",
    "# env.close()\n"
   ]
  },
  {
   "cell_type": "code",
   "execution_count": 5,
   "metadata": {},
   "outputs": [
    {
     "ename": "",
     "evalue": "",
     "output_type": "error",
     "traceback": [
      "\u001b[1;31mThe Kernel crashed while executing code in the current cell or a previous cell. \n",
      "\u001b[1;31mPlease review the code in the cell(s) to identify a possible cause of the failure. \n",
      "\u001b[1;31mClick <a href='https://aka.ms/vscodeJupyterKernelCrash'>here</a> for more info. \n",
      "\u001b[1;31mView Jupyter <a href='command:jupyter.viewOutput'>log</a> for further details."
     ]
    }
   ],
   "source": [
    "env.close()\n"
   ]
  },
  {
   "cell_type": "code",
   "execution_count": null,
   "metadata": {},
   "outputs": [],
   "source": []
  }
 ],
 "metadata": {
  "kernelspec": {
   "display_name": "myenv1",
   "language": "python",
   "name": "python3"
  },
  "language_info": {
   "codemirror_mode": {
    "name": "ipython",
    "version": 3
   },
   "file_extension": ".py",
   "mimetype": "text/x-python",
   "name": "python",
   "nbconvert_exporter": "python",
   "pygments_lexer": "ipython3",
   "version": "3.11.7"
  }
 },
 "nbformat": 4,
 "nbformat_minor": 2
}
